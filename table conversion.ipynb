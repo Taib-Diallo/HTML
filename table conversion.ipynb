{
 "cells": [
  {
   "cell_type": "code",
   "execution_count": 1,
   "id": "b31b92cb",
   "metadata": {},
   "outputs": [],
   "source": [
    "import pandas as pd"
   ]
  },
  {
   "cell_type": "code",
   "execution_count": 4,
   "id": "5d61b4df",
   "metadata": {},
   "outputs": [],
   "source": [
    "cities_df = pd.read_csv(\"C:\\\\Users\\\\Owner\\\\Documents\\\\HTML\\\\cities.csv\")"
   ]
  },
  {
   "cell_type": "code",
   "execution_count": 6,
   "id": "16e4f9c5",
   "metadata": {},
   "outputs": [],
   "source": [
    "cities_df.to_html('cities_table.html')"
   ]
  },
  {
   "cell_type": "code",
   "execution_count": null,
   "id": "15a834d0",
   "metadata": {},
   "outputs": [],
   "source": []
  }
 ],
 "metadata": {
  "kernelspec": {
   "display_name": "Python 3 (ipykernel)",
   "language": "python",
   "name": "python3"
  },
  "language_info": {
   "codemirror_mode": {
    "name": "ipython",
    "version": 3
   },
   "file_extension": ".py",
   "mimetype": "text/x-python",
   "name": "python",
   "nbconvert_exporter": "python",
   "pygments_lexer": "ipython3",
   "version": "3.7.11"
  }
 },
 "nbformat": 4,
 "nbformat_minor": 5
}
